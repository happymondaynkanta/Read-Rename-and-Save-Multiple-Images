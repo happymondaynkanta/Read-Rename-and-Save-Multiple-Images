{
 "cells": [
  {
   "cell_type": "markdown",
   "metadata": {},
   "source": [
    "# Read and save multiple images"
   ]
  },
  {
   "cell_type": "code",
   "execution_count": 1,
   "metadata": {},
   "outputs": [],
   "source": [
    "#import libraries\n",
    "import cv2\n",
    "import os\n",
    "import glob"
   ]
  },
  {
   "cell_type": "markdown",
   "metadata": {},
   "source": [
    "## State the image path and destination path"
   ]
  },
  {
   "cell_type": "code",
   "execution_count": 2,
   "metadata": {},
   "outputs": [],
   "source": [
    "img_path = r'E:\\2023-YouTube\\Lectures\\Class 2023\\data\\car'\n",
    "dest_path = r'E:\\2023-YouTube\\Lectures\\Class 2023\\new'"
   ]
  },
  {
   "cell_type": "code",
   "execution_count": 3,
   "metadata": {},
   "outputs": [],
   "source": [
    "# Read the multiple images in a loop\n",
    "\n",
    "i=1\n",
    "for img in glob.glob(img_path+'/*.*'):\n",
    "    try:\n",
    "        image = cv2.imread(img)\n",
    "        os.chdir(dest_path)\n",
    "        filename='new_'+str(i)+'.png'\n",
    "        cv2.imwrite(filename, image)\n",
    "        i+=1\n",
    "        \n",
    "        \n",
    "    except:\n",
    "        print('{} is not saved')\n"
   ]
  },
  {
   "cell_type": "code",
   "execution_count": null,
   "metadata": {},
   "outputs": [],
   "source": []
  }
 ],
 "metadata": {
  "kernelspec": {
   "display_name": "Python 3",
   "language": "python",
   "name": "python3"
  },
  "language_info": {
   "codemirror_mode": {
    "name": "ipython",
    "version": 3
   },
   "file_extension": ".py",
   "mimetype": "text/x-python",
   "name": "python",
   "nbconvert_exporter": "python",
   "pygments_lexer": "ipython3",
   "version": "3.7.4"
  }
 },
 "nbformat": 4,
 "nbformat_minor": 4
}
